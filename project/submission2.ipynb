f you use pandas think about the in
